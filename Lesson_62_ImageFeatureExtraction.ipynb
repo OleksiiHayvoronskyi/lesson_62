{
 "cells": [
  {
   "cell_type": "markdown",
   "source": [
    "#### Завдання\n",
    "### Напишіть код для визначення границь та кутів у зображенні за допомогою фільтра **Собеля**.\n",
    "### Використовуючи метод густини **градієнта HOG**, напишіть код для витягування ознак із зображення.\n",
    "### Завантажте датасет **CIFAR-10** та використайте **HOG** для витягування ознак зображень. Застосуйте будь-який класифікатор (наприклад **SVM**) для класифікації зображень та обчисліть такі метрики точності:\n",
    " * accuracy;\n",
    " * precision;\n",
    " * recall;\n",
    " * F1-score.\n",
    "### Використайте **метод SIFT**  для витягування ознак із зображень та порівняйте його з **методом HOG** за допомогою метрик точності."
   ],
   "metadata": {
    "collapsed": false
   }
  },
  {
   "cell_type": "code",
   "execution_count": null,
   "outputs": [],
   "source": [],
   "metadata": {
    "collapsed": false
   }
  },
  {
   "cell_type": "code",
   "execution_count": null,
   "outputs": [],
   "source": [],
   "metadata": {
    "collapsed": false
   }
  }
 ],
 "metadata": {
  "kernelspec": {
   "display_name": "Python 3",
   "language": "python",
   "name": "python3"
  },
  "language_info": {
   "codemirror_mode": {
    "name": "ipython",
    "version": 2
   },
   "file_extension": ".py",
   "mimetype": "text/x-python",
   "name": "python",
   "nbconvert_exporter": "python",
   "pygments_lexer": "ipython2",
   "version": "2.7.6"
  }
 },
 "nbformat": 4,
 "nbformat_minor": 0
}
